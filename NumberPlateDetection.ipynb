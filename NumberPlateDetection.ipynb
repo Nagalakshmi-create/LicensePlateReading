{
 "cells": [
  {
   "cell_type": "code",
   "execution_count": 1,
   "id": "372359b6",
   "metadata": {},
   "outputs": [],
   "source": [
    "import easyocr           # for recognition of character\n",
    "import cv2               \n",
    "import numpy as np\n",
    "import glob"
   ]
  },
  {
   "cell_type": "code",
   "execution_count": 2,
   "id": "2980fdf0",
   "metadata": {},
   "outputs": [],
   "source": [
    "path='/home/neosoft/Desktop/DataScienceProject/CarImages/*.*'      #folder path"
   ]
  },
  {
   "cell_type": "code",
   "execution_count": 3,
   "id": "56e0bc82",
   "metadata": {},
   "outputs": [
    {
     "name": "stderr",
     "output_type": "stream",
     "text": [
      "Using CPU. Note: This module is much faster with a GPU.\n"
     ]
    },
    {
     "data": {
      "text/plain": [
       "[('/home/neosoft/Desktop/DataScienceProject/CarImages/car8.jpeg', 'Pinnacle'),\n",
       " ('/home/neosoft/Desktop/DataScienceProject/CarImages/car10.jpg',\n",
       "  'Not detected'),\n",
       " ('/home/neosoft/Desktop/DataScienceProject/CarImages/car7.jpg',\n",
       "  'MH 04 JM 8765'),\n",
       " ('/home/neosoft/Desktop/DataScienceProject/CarImages/car3.jpg', 'SN66 XMZ'),\n",
       " ('/home/neosoft/Desktop/DataScienceProject/CarImages/car9.jpg', 'DL 9C4n622'),\n",
       " ('/home/neosoft/Desktop/DataScienceProject/CarImages/car5.jpg',\n",
       "  'MH 20 EE 7598'),\n",
       " ('/home/neosoft/Desktop/DataScienceProject/CarImages/car4.jpeg',\n",
       "  'Not detected'),\n",
       " ('/home/neosoft/Desktop/DataScienceProject/CarImages/car2.png',\n",
       "  'MP 04 cc 2688'),\n",
       " ('/home/neosoft/Desktop/DataScienceProject/CarImages/car6.jpeg',\n",
       "  'KA 05 NB 1786'),\n",
       " ('/home/neosoft/Desktop/DataScienceProject/CarImages/car1.jpeg',\n",
       "  'MHI2 DE1433')]"
      ]
     },
     "execution_count": 3,
     "metadata": {},
     "output_type": "execute_result"
    }
   ],
   "source": [
    "reader=easyocr.Reader(['en'], gpu=False)\n",
    "output=[]\n",
    "for file in glob.glob(path):\n",
    "    img=cv2.imread(file, 0)       #0 means reads the image as gray image\n",
    "    result = reader.readtext(img, paragraph=False)\n",
    "    text=\"\"\n",
    "    for i in range(len(result)):\n",
    "        if len(result[i][1])>=8 and len(result[i][1])<14 :\n",
    "            text+=result[i][1]\n",
    "            break\n",
    "    if len(text)<1:\n",
    "        output.append((file, \"Not detected\"))\n",
    "    else:\n",
    "        output.append((file, text))\n",
    "output   "
   ]
  }
 ],
 "metadata": {
  "kernelspec": {
   "display_name": "Python 3 (ipykernel)",
   "language": "python",
   "name": "python3"
  },
  "language_info": {
   "codemirror_mode": {
    "name": "ipython",
    "version": 3
   },
   "file_extension": ".py",
   "mimetype": "text/x-python",
   "name": "python",
   "nbconvert_exporter": "python",
   "pygments_lexer": "ipython3",
   "version": "3.9.7"
  }
 },
 "nbformat": 4,
 "nbformat_minor": 5
}
